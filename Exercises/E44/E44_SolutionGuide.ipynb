{
 "cells": [
  {
   "cell_type": "markdown",
   "id": "fa29757b-b866-40db-b7e4-f9eee753eda1",
   "metadata": {},
   "source": [
    "# Exercise 44: Electricity storage "
   ]
  },
  {
   "cell_type": "markdown",
   "id": "247d0783-1148-4128-b342-ca7b7cc4d1a0",
   "metadata": {},
   "source": [
    "In this exercise you will work an extension of the $\\texttt{mBasicInt}$ model, with the extension being the inclusion of a technology with capacity for electricity storage. The analytical structure of the model is outlined in Exercise 44_H, which is available on absalon. We strongly recommend that you cover the material in Exercise 44-H, before proceeding."
   ]
  },
  {
   "cell_type": "markdown",
   "id": "1a04d1bc-0f04-44cb-a717-3e300628bdf7",
   "metadata": {},
   "source": [
    "We start by importing basic packages and specifying where to place figures."
   ]
  },
  {
   "cell_type": "code",
   "execution_count": 1,
   "id": "a0a1fcf4-c9cf-492d-8efa-8b1f15b2d752",
   "metadata": {
    "tags": []
   },
   "outputs": [
    {
     "name": "stdout",
     "output_type": "stream",
     "text": [
      "The autoreload extension is already loaded. To reload it, use:\n",
      "  %reload_ext autoreload\n"
     ]
    }
   ],
   "source": [
    "%run ../stdPackages.ipynb\n",
    "from pyDbs import *\n",
    "from IPython.display import Image\n",
    "figs_path = os.path.join(d['curr'],'Figs')"
   ]
  },
  {
   "cell_type": "markdown",
   "id": "4da0dd40-430f-46ee-88af-ddc39e4fc94b",
   "metadata": {},
   "source": [
    "The data we are using to parameterize the model is located at"
   ]
  },
  {
   "cell_type": "code",
   "execution_count": 2,
   "id": "1657d445-6451-4131-a49d-672e07e147be",
   "metadata": {
    "tags": []
   },
   "outputs": [
    {
     "name": "stdout",
     "output_type": "stream",
     "text": [
      "c:\\Users\\Peter Bendix\\OneDrive\\Skrivebord\\EnergyEconomicsE2024\\Exercises\\E44\\Data\\E44_Data.xlsx\n"
     ]
    }
   ],
   "source": [
    "path_to_data = os.path.join(d['curr'],'E44','Data','E44_Data.xlsx')\n",
    "print(path_to_data)"
   ]
  },
  {
   "cell_type": "markdown",
   "id": "7900b878-1395-44ee-a477-747abdb46b63",
   "metadata": {},
   "source": [
    "The table below translates the names used in the data to the symbols used in the model. \n",
    "\n",
    "| Name in excel file | Model symbol |\n",
    "|:--------|:--------:|\n",
    "| id | $i$ | \n",
    "| BFt | $j$ |\n",
    "| h | $h$ |\n",
    "|  FuelMix   |  $\\mu_{i,j}$   |\n",
    "|  GeneratingCapacity   | $q_i$   |\n",
    "|  OtherMC   | $c_i^{oth}$   |\n",
    "| FuelPrice | $p_j^f$ |\n",
    "| EmissionIntensity | $\\phi_j$ |\n",
    "| MWP | $\\mu$ |\n",
    "| LoadVariation $\\times$ Load | $D_h$ |\n",
    "| CapVariation | $\\gamma_{i,h} $ |\n",
    "| sCap | $\\overline{S}_i$ |\n",
    "| effS | $\\sqrt{\\eta_i}$ |\n",
    "\n",
    "Note that $c$ is also an index for the consumer type in the data file. \n",
    "\n",
    "The following section imports the data:"
   ]
  },
  {
   "cell_type": "code",
   "execution_count": 3,
   "id": "d4056e6c-95d9-4c64-afdb-15a0f4c19504",
   "metadata": {
    "tags": []
   },
   "outputs": [],
   "source": [
    "kwargs = {'variables': ['Fundamentals', 'Load', 'Generators_Other'],\n",
    "        'maps': ['Generators_Categories','hMaps'],\n",
    "        'variable2D': ['HourlyVariation','Generators_FuelMix'],\n",
    "        'scalars': ['Scalars']}\n",
    "\n",
    "db = read.dbFromWB(path_to_data, kwargs)\n",
    "readSets(db)"
   ]
  },
  {
   "cell_type": "markdown",
   "id": "84a1d57d-f848-4286-9b71-77b9a3abd1a4",
   "metadata": {
    "tags": []
   },
   "source": [
    "# E1"
   ]
  },
  {
   "cell_type": "markdown",
   "id": "b5830ed3-3421-4847-9ca6-b1f30b30c776",
   "metadata": {},
   "source": [
    "Recall that the social planner problem in the system of equations in __(1)__ of Exercise 44-H is a linear programming problem an can be expressed on the form\n",
    "\n",
    "\\begin{align} \n",
    "    &\\min_{x} \\ c^T\\cdot x \\tag{2A}\\\\ \n",
    "    &l\\leq x\\leq u, \\tag{2B} \\\\\n",
    "    &A_{eq}\\times x  = b_{eq} \\tag{2C}\\\\ \n",
    "\\end{align}\n",
    "where: \n",
    "* $x$ is the vector of choice variables of length ($N$).\n",
    "* $c, l, u$ are coefficient vectors of the same length ($N$).\n",
    "* $b_{eq}, b_{ub}$ are coefficient vectors of lengths $N_{eq}, N_{ub}$, \n",
    "* and $A_{eq}, A_{ub}$ are coefficient matrices of sizes $(N_{eq}\\times N)$ and $(N_{ub} \\times N)$ respectively.\n",
    "\n",
    "\n",
    "In the `py`-folder for this exercise, the modelclass we will be working with is located in `ModelClass.py`. Under the `mSimple` class (post line 91), you will fill in the missing lines of code to extend the $\\texttt{mBasicInt}$ model to include energy storage. \n",
    "\n",
    "\n",
    "_c-vector:_  \n",
    "__For the c-vector in (2A) fill in coefficient related to the discharge $(Y_{i,h}^d)$ and charge $(Y_{i,h}^c)$ decisions in the c-property of__ `mSimple`:\n",
    "```python\n",
    "    @property\n",
    "    def c(self):\n",
    "        return [{'varName': 'Generation',\n",
    "                 'value': adjMultiIndex.bc(self.db['mc'], self.globalDomains['Generation']), \n",
    "                 'conditions': getTechs(['Standard'],self.db)},\n",
    "                {'varName': 'HourlyDemand',\n",
    "                 'value':-adjMultiIndex.bc(self.db['MWP'], self.globalDomains['HourlyDemand'])},\n",
    "                {'varName': 'discharge',\n",
    "                 'value': ...Fill in here...,\n",
    "                 'conditions': getTechs('Storage',self.db)},\n",
    "                {'varName': 'charge',\n",
    "                 'value': ...Fill in here...,\n",
    "                 'conditions': ...Fill in here...}]\n",
    "```\n",
    "_u-vector:_   \n",
    "__For the u-vector in (2B) fill in upper bound related to the discharge $(Y_{i,h}^d)$, charge $(Y_{i,h}^c)$, and storage $(S_{i,h})$ decisions in the u-property of `mSimple`:__\n",
    "```python\n",
    "    @property\n",
    "    def u(self):\n",
    "        return [{'varName': 'Generation', \n",
    "                 'value': adjMultiIndex.bc(self.hourlyGeneratingCap, self.globalDomains['Generation']), \n",
    "                 'conditions': getTechs(['Standard'],self.db)},\n",
    "                {'varName': 'HourlyDemand', 'value': self.hourlyLoad_c},\n",
    "                {'varName': 'stored', \n",
    "                 'value': adjMultiIndex.bc(self.db['sCap'], self.globalDomains['stored'])},\n",
    "                {'varName': 'discharge', \n",
    "                 'value': ...Fill in here...,\n",
    "                 'conditions': getTechs('Storage',self.db)},\n",
    "                {'varName': 'charge',\n",
    "                 'value': Fill in here..., \n",
    "                 'conditions': Fill in here...}]\n",
    "```"
   ]
  },
  {
   "cell_type": "markdown",
   "id": "9d6ea91c-a0e4-4371-b115-c828bf205f49",
   "metadata": {
    "tags": []
   },
   "source": [
    "__Finally, make sure your code is correct by solving for the baseline scenario, where this is no storage__:"
   ]
  },
  {
   "cell_type": "code",
   "execution_count": 5,
   "id": "506ccb7c-c363-435a-8bdd-f5996630d4d1",
   "metadata": {
    "tags": []
   },
   "outputs": [
    {
     "name": "stdout",
     "output_type": "stream",
     "text": [
      "Solution status 0: Optimization terminated successfully. (HiGHS Status 7: Optimal)\n"
     ]
    }
   ],
   "source": [
    "import sys\n",
    "sys.path.append(os.path.join(d['curr'], 'E44', 'py'))\n",
    "from ModelClass_SolutionGuide import *\n",
    "m = mSimple(db)\n",
    "m()"
   ]
  },
  {
   "cell_type": "markdown",
   "id": "1a1574f1-1868-4bd0-9172-e2d9aaec8e01",
   "metadata": {
    "tags": []
   },
   "source": [
    "Save solution for later:"
   ]
  },
  {
   "cell_type": "code",
   "execution_count": null,
   "id": "c152c492-51ad-45c3-aa9c-42e6316e3e85",
   "metadata": {
    "tags": []
   },
   "outputs": [],
   "source": [
    "base_db = m.db.copy()"
   ]
  },
  {
   "cell_type": "markdown",
   "id": "ccebe24b-e47d-4546-bc02-69d9addd1616",
   "metadata": {
    "tags": []
   },
   "source": [
    "In the following, we will aggregate the fuel types to the following types:"
   ]
  },
  {
   "cell_type": "code",
   "execution_count": null,
   "id": "98eb9678-83df-4a7c-8c27-d742839ab841",
   "metadata": {
    "tags": []
   },
   "outputs": [],
   "source": [
    "agg_BFt = {\n",
    "    'Fueloil':'Oil','Gasoil':'Oil', \n",
    "    'Straw':'Biomass','WoodPellets':'Biomass','WoodChips':'Biomass','WoodWaste':'Biomass',\n",
    "    'Biogas':'Other Bio','BioOil':'Other Bio',\n",
    "    'Coal':'Coal',\n",
    "    'NatGas':'Natural gas',\n",
    "    'Waste':'Waste'\n",
    "}"
   ]
  },
  {
   "cell_type": "markdown",
   "id": "59f00045",
   "metadata": {},
   "source": [
    "___\n",
    "___Answer:___\n",
    "\n",
    "See the ModelClass_SolutionGuide.py."
   ]
  },
  {
   "cell_type": "markdown",
   "id": "43aeec2b-2d6c-4d3a-820f-9ca117ae0d6b",
   "metadata": {
    "tags": []
   },
   "source": [
    "## E2"
   ]
  },
  {
   "cell_type": "markdown",
   "id": "1c96312f-9624-471b-809a-8b469fbb95f0",
   "metadata": {},
   "source": [
    "Below, the average merit order curve, the average marginal inverse fuel effiency, and the average marginal $CO_2$ intensity is illustrated.\n",
    "\n",
    "**Describe the supply curve.**"
   ]
  },
  {
   "cell_type": "code",
   "execution_count": null,
   "id": "18fa820b-1244-4f3e-82a9-8c234d954ead",
   "metadata": {},
   "outputs": [],
   "source": [
    "Image(os.path.join(figs_path,'E2.2_sol.png'))"
   ]
  },
  {
   "cell_type": "markdown",
   "id": "f2e7e9e8-badd-4b28-8aad-cddaaf37a5b7",
   "metadata": {
    "tags": []
   },
   "source": [
    "_Note: The code for generating the figure is:_"
   ]
  },
  {
   "cell_type": "code",
   "execution_count": null,
   "id": "b0d5bd0f-0e90-4591-bcd3-fe4b7cd17e28",
   "metadata": {
    "jupyter": {
     "source_hidden": true
    },
    "tags": []
   },
   "outputs": [],
   "source": [
    "%%capture\n",
    "# Settings\n",
    "ϵ=np.finfo(float).eps*1e10\n",
    "lower_point=0\n",
    "upper_point=m.db['MWP']*1.1\n",
    "\n",
    "# Make dataframe\n",
    "df_fuelineff = m.db['FuelMix'].rename(agg_BFt,level='BFt').groupby(['id','BFt']).sum().unstack('BFt').rename_axis(None,axis=1)\n",
    "df = pd.concat(\n",
    "    [m.hourlyGeneratingCap.groupby('id').agg('mean').rename('q').astype(float),m.db['mc'].rename('p').astype(float)]+\n",
    "    [df_fuelineff]+\n",
    "    [plantEmissionIntensity(m.db).xs('CO2',level='EmissionType').rename('m').mul(1000)]\n",
    "    ,axis=1\n",
    ").fillna(0)\n",
    "\n",
    "# Sort and aggregate\n",
    "df = df.sort_values(['p'])\n",
    "df['q_cs'] = df['q'].transform('cumsum')\n",
    "\n",
    "# Add upper points for step plotting\n",
    "df_up = df.copy()\n",
    "df_up['q_cs'] = df_up['q_cs']+ϵ\n",
    "df_up['p'] = df_up['p'].shift(-1).fillna(upper_point)\n",
    "df_up[df_fuelineff.columns.values] = df_up[df_fuelineff.columns.values].shift(-1)\n",
    "df_up['m'] = df_up['m'].shift(-1)\n",
    "df = pd.concat([df,df_up],axis=0).sort_values(['p','q_cs'])\n",
    "df['q_diff'] = df['q_cs'].diff().div(2)\n",
    "df['q_mean'] = df['q_cs']-df['q_diff']\n",
    "\n",
    "# Now plot\n",
    "fig, ax = plt.subplots(ncols=1,nrows=3,sharex=True,sharey=False)\n",
    "\n",
    "# Merit order cuve:\n",
    "df.set_index(['q_cs'])['p'].plot(ax=ax[0],ylabel=r'$€/$GJ',title='Average merit order curve')\n",
    "for i in adj.rc_pd(m.db['id'],getTechs(['Standard'],m.db)):\n",
    "    df_tmp = df.loc[i].copy()\n",
    "    ax[0].text(x=df_tmp.iloc[0]['q_mean'],y=df_tmp.iloc[0]['p']-1,s=i,ha='center',va='top')\n",
    "\n",
    "# Marginal fuel inefficiency\n",
    "df.set_index(['q_cs'])[df_fuelineff.columns].plot(kind='area',linewidth=0,ax=ax[1],legend=False,stacked=True,ylabel='GJ input/GJ output',title='Average marginal inverse fuel efficiency')\n",
    "ax[1].set_ylim(top=2)\n",
    "fig.legend(handles=ax[1].get_legend_handles_labels()[0],loc='upper center', ncol=len(df_fuelineff.columns), frameon=True, bbox_to_anchor=(0.55,0.64))\n",
    "\n",
    "# Marginal emission coefficient\n",
    "df.set_index(['q_cs'])['m'].plot(kind='area',linewidth=0,ax=ax[2],legend=False,xlabel='GJ output',ylabel=r'kg CO$_2/$GJ',title=r'Average marginal CO$_2$ intensity')\n",
    "\n",
    "fig.tight_layout()\n",
    "fig.savefig(f\"{figs_path}\\\\E2.2_sol.png\", edgecolor='k',bbox_inches='tight')"
   ]
  },
  {
   "cell_type": "markdown",
   "id": "273b48f2-09d0-42bf-8443-df35257c1aac",
   "metadata": {
    "tags": []
   },
   "source": [
    "___\n",
    "___Answer:___\n",
    "\n",
    "- `id6` is a wind farm with a marginal costs of generation of 3 $€/$GJ. The installed/theoretical capacity if 25 but the average/practical generating capacity is only around 7.5.\n",
    "- `id4` is a relatively cheap waste incineration plant, which is associted with CO$_2$ emissions.\n",
    "- `id1` is next on the merit order curve and is predominately a coal plant. Even though it is not the most fuel inefficient generator it has by far the largest emission intensity.\n",
    "- `id2` is a predominately a natural-gas fired plant and has the second highest emission intensity.\n",
    "- `id3` is a biomass-fired plant associated with moderate CO$_2$ emissions since it also uses a small input of coal.\n",
    "- `id5` is the last generator on the merit order curve and it is relatively costly mainly due to high fuel costs. "
   ]
  },
  {
   "cell_type": "markdown",
   "id": "90a07140-576f-4ad0-946b-7d725dd45bfa",
   "metadata": {
    "tags": []
   },
   "source": [
    "## E3"
   ]
  },
  {
   "cell_type": "markdown",
   "id": "d36b7224-c36b-4828-925e-e26912abe86f",
   "metadata": {},
   "source": [
    "**Describe the residual demand curve and the prices.**"
   ]
  },
  {
   "cell_type": "code",
   "execution_count": null,
   "id": "7b1d5ecd-e9f9-4d0b-a518-a7315d38173c",
   "metadata": {
    "tags": []
   },
   "outputs": [],
   "source": [
    "Image(os.path.join(figs_path,'E2.3_sol.png'))"
   ]
  },
  {
   "cell_type": "markdown",
   "id": "315a8703-e5e0-4258-b0d4-09770e02c561",
   "metadata": {
    "tags": []
   },
   "source": [
    "_Note: The code for generating the figure is:_"
   ]
  },
  {
   "cell_type": "code",
   "execution_count": null,
   "id": "8faa22e6-2e21-4d0d-a108-d0ce02677fb4",
   "metadata": {
    "jupyter": {
     "source_hidden": true
    },
    "tags": []
   },
   "outputs": [],
   "source": [
    "%%capture\n",
    "# Make dataframe\n",
    "int_id = adj.rc_pd(m.db['id2hvt'], pd.Index(['Wind','Solar'], name = 'hvt')).droplevel('hvt')\n",
    "df_sort =  pd.concat([\n",
    "    adj.rc_pd(m.hourlyGeneratingCap,int_id).groupby('h').sum().rename('E').astype(float),\n",
    "    m.hourlyLoad.rename('L').astype(float),\n",
    "    m.db['marginalSystemCosts'].rename('p').astype(float)\n",
    "],axis=1)\n",
    "\n",
    "# Calculate residual demand\n",
    "df_sort['resd'] = df_sort['L']-df_sort['E']\n",
    "\n",
    "# Sort dataframe\n",
    "df_sort = df_sort.sort_values(['resd'],ascending=False).reset_index()\n",
    "df_sort.index = df_sort.index/len(df_sort)\n",
    "\n",
    "# Make new dataframe with time mappings\n",
    "df_h = df_sort.merge(m.db['h2HourOfTheDay'].to_frame(index=False))\n",
    "\n",
    "# Aggregate for average hour of the day\n",
    "df_h = df_h.groupby('HourOfTheDay')[['resd','p']].mean()\n",
    "\n",
    "# Make plot\n",
    "fig, ax = plt.subplots(nrows=2,ncols=2,sharey='row',sharex='col')\n",
    "\n",
    "df_sort['resd'].plot(ax=ax[0,0],ylabel=r'Residual demand (GJ)')\n",
    "df_sort['p'].plot(ax=ax[1,0],ylabel=r'Marginal system costs ($€/$GJ)',xlabel='Capacity factor')\n",
    "df_h['resd'].plot(ax=ax[0,1])\n",
    "df_h['p'].plot(xlabel='Average hour of the day (GJ)',ax=ax[1,1])\n",
    "\n",
    "fig.tight_layout()\n",
    "fig.savefig(f\"{figs_path}\\\\E2.3_sol.png\", edgecolor='k',bbox_inches='tight')"
   ]
  },
  {
   "cell_type": "markdown",
   "id": "3ea3d7b9-5b80-49ed-bf55-de8b81ceb465",
   "metadata": {},
   "source": [
    "___\n",
    "___Answer:___\n",
    "\n",
    "In the baseline scenario - where this is no capacity for electricity storage - there is a surplus of wind electricity in around 7% of the year (upper left figure). This surplus electricity gets curtailed in equilibrium. Comparing the upper left panel with the lower left figure, we see that prices of the year closely follows the share of the residual demand curve. \n",
    "\n",
    "This is also illustrated in the right column of the figure, which shows the average residual demand curve (upper right) and the marginal system costs (lower right) over the hours of the day. In general, electricity is scarce around 10 and 18 and abundant during night hours. "
   ]
  },
  {
   "cell_type": "markdown",
   "id": "5a0fb943-8e40-47fb-aaf7-446effe3fa15",
   "metadata": {
    "tags": []
   },
   "source": [
    "## E4"
   ]
  },
  {
   "cell_type": "markdown",
   "id": "b8e45539-341e-4d97-b40b-8b422bf761d0",
   "metadata": {},
   "source": [
    "In the following we will run an experiment where we exogenously vary the capacity of the storage technology from 0 to 10. We will assume the storage duration of the technology is 4 hours.\n",
    "\n",
    "We first define the two grids to solve the model over:"
   ]
  },
  {
   "cell_type": "code",
   "execution_count": null,
   "id": "18f396dd-39ae-475f-9268-60685510f1f6",
   "metadata": {
    "tags": []
   },
   "outputs": [],
   "source": [
    "# Setting\n",
    "E2P = 4 # The \"energy storage to power\"-ratio/storage duration\n",
    "maxcap = 10\n",
    "loop = pd.Index(range(11), name = 'loop')\n",
    "v0_ECap = pd.Series(0.001, index = getTechs(['Storage'],m.db))\n",
    "vT_ECap = pd.Series(maxcap, index = v0_ECap.index)\n",
    "v0_SCap = v0_ECap.mul(E2P)\n",
    "vT_SCap = vT_ECap.mul(E2P)\n",
    "\n",
    "grid_ECap = adjMultiIndex.addGrid(v0_ECap,vT_ECap,loop,'GeneratingCapacity').astype(int)\n",
    "grid_SCap = adjMultiIndex.addGrid(v0_SCap,vT_SCap,loop,'sCap').astype(int)"
   ]
  },
  {
   "cell_type": "markdown",
   "id": "e9a341ee-1627-447c-9c68-b5f2f4c87220",
   "metadata": {
    "tags": []
   },
   "source": [
    "We will also be extracting the following variables:"
   ]
  },
  {
   "cell_type": "code",
   "execution_count": null,
   "id": "0470b0e3-5d5f-44e7-986e-ee7fa17c9a9f",
   "metadata": {
    "tags": []
   },
   "outputs": [],
   "source": [
    "extract = ['marginalSystemCosts','Generation','charge','discharge','capturePrice','marketValueFactor','capacityFactor','marginalEconomicValue','hourlyEmissions','Emissions','consumerSurplus','producerSurplus','Welfare']"
   ]
  },
  {
   "cell_type": "markdown",
   "id": "19ceb06e-0fbc-4332-af19-79529edc13ff",
   "metadata": {
    "tags": []
   },
   "source": [
    "We now run the counterfactual scenarios:"
   ]
  },
  {
   "cell_type": "code",
   "execution_count": null,
   "id": "ed7d8bc4-55f6-41ce-81dd-a38ca8d360d4",
   "metadata": {
    "tags": []
   },
   "outputs": [],
   "source": [
    "solution = m.loopSolveExtract(loop, [grid_ECap, grid_SCap], extract)"
   ]
  },
  {
   "cell_type": "markdown",
   "id": "dffba7e4-987e-4e83-a534-02abbe718f83",
   "metadata": {},
   "source": [
    "__Explain what is happening to the marginal systems costs on an average day illustrate in the figure below.__"
   ]
  },
  {
   "cell_type": "code",
   "execution_count": null,
   "id": "9af923cf-de16-44c2-8e6b-355436344494",
   "metadata": {
    "tags": []
   },
   "outputs": [],
   "source": [
    "Image(os.path.join(figs_path,'E2.4_sol.png'))"
   ]
  },
  {
   "cell_type": "markdown",
   "id": "f6cb915c-4876-439a-aa96-54de18ffa3c7",
   "metadata": {
    "tags": []
   },
   "source": [
    "_Note: The code for generating the figure is:_"
   ]
  },
  {
   "cell_type": "code",
   "execution_count": null,
   "id": "b27dc1ea-28df-4ce9-af97-26f209bdff67",
   "metadata": {
    "jupyter": {
     "source_hidden": true
    },
    "tags": []
   },
   "outputs": [],
   "source": [
    "%%capture\n",
    "loop_id=loop[[1,3,6,10]]\n",
    "# Make dataframe\n",
    "df_p =  pd.concat([\n",
    "    base_db['marginalSystemCosts'].rename('base').astype(float),\n",
    "    adj.rc_pd(solution['marginalSystemCosts'],loop_id).unstack('loop').rename_axis(None,axis=1).astype(float)\n",
    "],axis=1)\n",
    "\n",
    "# Make new dataframe with time mappings\n",
    "p_names = df_p.columns.copy()\n",
    "df = df_p.reset_index().merge(m.db['h2HourOfTheDay'].to_frame(index=False))\n",
    "\n",
    "# Make plot\n",
    "fig, ax = plt.subplots()\n",
    "df.groupby('HourOfTheDay')[p_names].mean().plot(xlabel='Average hour of the day',ylabel=r'Average marginal system costs ($€/$GJ)',ax=ax,legend=False)\n",
    "fig.legend(['0 (baseline)']+grid_ECap[loop_id].tolist(),loc='lower center', ncol=len(df_fuelineff.columns), frameon=True, bbox_to_anchor=(0.6,0.2),title=r'Power capacity of storage technology:')\n",
    "fig.tight_layout()\n",
    "fig.savefig(f\"{figs_path}\\\\E2.4_sol.png\", edgecolor='k',bbox_inches='tight')"
   ]
  },
  {
   "cell_type": "markdown",
   "id": "74696575-1149-429c-a06e-4836653d68dc",
   "metadata": {
    "tags": []
   },
   "source": [
    "___\n",
    "___Answer:___\n",
    "\n",
    "Wee see that prices are generally increasing in low-price hours and decreasing in high-price hours. This is because the storage technology is charging in low-price states (demand increase pushing up prices) and dispatching in high-price states (supply increase pushing down prices). This can be illustrated by the graph below: "
   ]
  },
  {
   "cell_type": "code",
   "execution_count": null,
   "id": "49514d02-b5a0-4af7-a505-ff8f08d945f8",
   "metadata": {
    "tags": []
   },
   "outputs": [],
   "source": [
    "# Make dataframe\n",
    "charge = adj.rc_pd(-solution['charge'].droplevel('id'),loop_id).unstack('loop').rename_axis(None,axis=1)\n",
    "discharge = adj.rc_pd(solution['discharge'].droplevel('id'),loop_id).unstack('loop').rename_axis(None,axis=1)\n",
    "\n",
    "df_Y =  pd.concat([charge,discharge],axis=0).groupby('h').agg('sum')\n",
    "df_Y['base'] = 0\n",
    "\n",
    "# Make new dataframe with time mappings\n",
    "df = df_Y.reset_index().merge(m.db['h2HourOfTheDay'].to_frame(index=False))\n",
    "\n",
    "# Make plot\n",
    "fig, ax = plt.subplots()\n",
    "df.groupby('HourOfTheDay')[p_names].mean().plot(xlabel='Average hour of the day',ylabel=r'$Y^d-Y^c$',ax=ax,legend=False)\n",
    "fig.legend(['0 (baseline)']+grid_ECap[loop_id].tolist(),loc='lower center', ncol=len(df_fuelineff.columns), frameon=True, bbox_to_anchor=(0.6,0.2),title=r'Power capacity of storage technology:')\n",
    "fig.tight_layout()"
   ]
  },
  {
   "cell_type": "markdown",
   "id": "260f7dd1-84d8-48f4-9bbb-15d16acff8e0",
   "metadata": {
    "tags": []
   },
   "source": [
    "## E5"
   ]
  },
  {
   "cell_type": "markdown",
   "id": "d4470872-504c-43aa-8562-69965e53e3a5",
   "metadata": {},
   "source": [
    "The cunk of code in the following illustrates the marginal economic value of both power capacity (left) and energy capacity (right) of storage using eq. __(4)__ and __(5)__, respectively, in Exercises 44-H.\n",
    "\n",
    "__Explain why the marginal value of power capacity goes to zero and the marginal value of energy storage is still positive (although also decreasing)__."
   ]
  },
  {
   "cell_type": "code",
   "execution_count": null,
   "id": "a5bbdc5d-c223-47de-a92c-12c40061e7e5",
   "metadata": {
    "tags": []
   },
   "outputs": [],
   "source": [
    "fig, ax = plt.subplots(ncols=2,sharey=True)\n",
    "solution['marginalEconomicValue'].xs('idES',level='id').xs('Power',level='CapacityType').iloc[1:].plot(ax=ax[0],title='Marginal economic value of\\npower capacity $(\\partial \\mathcal{L} /\\partial q_{i})$',xlabel=r'Power capacity of storage technology')\n",
    "solution['marginalEconomicValue'].xs('idES',level='id').xs('Energy',level='CapacityType').iloc[1:].plot(ax=ax[1],title='Marginal economic value of\\nenergy capacity $(\\partial \\mathcal{L} /\\partial \\overline{S}_{i})$',xlabel=r'Power capacity of storage technology')\n",
    "fig.tight_layout()"
   ]
  },
  {
   "cell_type": "markdown",
   "id": "6d1aa627-7181-4198-8139-07835a2f4ef2",
   "metadata": {},
   "source": [
    "___\n",
    "___Answer:___\n",
    "\n",
    "The marginal economic value of power capacity is decreasing due to the indirect/equilibrium effect identified in eq. __(8)__ in the lecture note on electricity storage: Because the storage technology is eroding oppertunities of price arbitrage, marginally more price arbitration simply lowers the arbitrage opportunity. While this is an equilibrium effect a more conventional interpretation is that the storage technology features diminishing returns to power capacity. This effect implies that there are no short-run profits associated with investing in more power capacity above 5 GJ. \n",
    "\n",
    "However, we do see that the marginal value of energy storage is still positive. The intuition is that it would be optimal to invest in a storage technology with a longer storage duration than 4 hours. In other words, when the power capacity is at 5 GJ all arbitrage oppertunities within a typical day are eroded, and we would need a technology for long-term storage to take advantage of other price spreads. "
   ]
  },
  {
   "cell_type": "markdown",
   "id": "8ef82403-5351-4056-8f31-26b528f3c89d",
   "metadata": {
    "tags": []
   },
   "source": [
    "## E6"
   ]
  },
  {
   "cell_type": "markdown",
   "id": "92f864fe-6cdf-438a-9db4-670340a4e68d",
   "metadata": {},
   "source": [
    "**Explain why total $CO_2$ emissions are increasing as illustrated by the folloing chunk of code:**"
   ]
  },
  {
   "cell_type": "code",
   "execution_count": null,
   "id": "270be0a0-6b7a-4ffa-9e4b-b052db3199e8",
   "metadata": {
    "tags": []
   },
   "outputs": [],
   "source": [
    "solution['Emissions'].plot(ylabel='Ton CO$_2$',xlabel='Power capacity of storage')"
   ]
  },
  {
   "cell_type": "markdown",
   "id": "c6db1ae4-cbc2-4cb1-b066-b679afdcb55b",
   "metadata": {
    "tags": []
   },
   "source": [
    "___\n",
    "___Answer:___\n",
    "\n",
    "To answer this question, we need to look at what happens to emission in low-price states vs. high-price states:"
   ]
  },
  {
   "cell_type": "code",
   "execution_count": null,
   "id": "40cbb623-b952-4ce8-9cd8-fba2a7c75ddf",
   "metadata": {
    "tags": []
   },
   "outputs": [],
   "source": [
    "x = solution['hourlyEmissions'].xs('CO2',level='EmissionType').reset_index().merge(m.db['h2HourOfTheDay'].to_frame(index=False))\n",
    "adj.rc_pd(x.groupby(['HourOfTheDay','loop'])[0].mean(),loop_id).mul(1000).unstack('loop').plot(ylabel='kg CO$_2$',xlabel='Hour of the day')"
   ]
  },
  {
   "cell_type": "markdown",
   "id": "0b6b68d1-a0f8-4a45-9f1e-993218e7cdb9",
   "metadata": {},
   "source": [
    "While we lowering emissions in high-price states in which stored electricity is dispatch in replacing fossil-based generation, we are crowding in emission in low-price states. Specifically, we are crowding in the coal- and natural-gas fired generators, which increases emissions on net due to their high emission intensity."
   ]
  }
 ],
 "metadata": {
  "kernelspec": {
   "display_name": "base",
   "language": "python",
   "name": "python3"
  },
  "language_info": {
   "codemirror_mode": {
    "name": "ipython",
    "version": 3
   },
   "file_extension": ".py",
   "mimetype": "text/x-python",
   "name": "python",
   "nbconvert_exporter": "python",
   "pygments_lexer": "ipython3",
   "version": "3.11.5"
  }
 },
 "nbformat": 4,
 "nbformat_minor": 5
}
