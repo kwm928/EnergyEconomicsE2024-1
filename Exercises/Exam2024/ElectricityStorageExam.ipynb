{
 "cells": [
  {
   "cell_type": "code",
   "execution_count": null,
   "id": "a0a1fcf4-c9cf-492d-8efa-8b1f15b2d752",
   "metadata": {
    "tags": []
   },
   "outputs": [],
   "source": [
    "%run ../stdPackages.ipynb\n",
    "from pyDbs import *\n",
    "from IPython.display import Image"
   ]
  },
  {
   "cell_type": "code",
   "execution_count": null,
   "id": "1657d445-6451-4131-a49d-672e07e147be",
   "metadata": {
    "tags": []
   },
   "outputs": [],
   "source": [
    "path_to_data = os.path.join(d['curr'],'Exam2024','Data','Exam2024.xlsx')\n",
    "print(path_to_data)"
   ]
  },
  {
   "cell_type": "code",
   "execution_count": null,
   "id": "d4056e6c-95d9-4c64-afdb-15a0f4c19504",
   "metadata": {
    "tags": []
   },
   "outputs": [],
   "source": [
    "kwargs = {'variables': ['Fundamentals', 'Load', 'Generators_Other'],\n",
    "        'maps': ['Generators_Categories','hMaps'],\n",
    "        'variable2D': ['HourlyVariation','Generators_FuelMix'],\n",
    "        'scalars': ['Scalars']}\n",
    "\n",
    "db = read.dbFromWB(path_to_data, kwargs)\n",
    "readSets(db)"
   ]
  },
  {
   "cell_type": "code",
   "execution_count": null,
   "id": "506ccb7c-c363-435a-8bdd-f5996630d4d1",
   "metadata": {
    "tags": []
   },
   "outputs": [],
   "source": [
    "import sys\n",
    "sys.path.append(os.path.join(d['curr'], 'Exam2024', 'py'))\n",
    "from Exam_pyfile import *\n",
    "m = mSimple(db)\n",
    "m()"
   ]
  },
  {
   "cell_type": "code",
   "execution_count": null,
   "id": "c152c492-51ad-45c3-aa9c-42e6316e3e85",
   "metadata": {
    "tags": []
   },
   "outputs": [],
   "source": [
    "#Baseline solution saved\n",
    "base_db = m.db.copy()"
   ]
  },
  {
   "cell_type": "code",
   "execution_count": null,
   "id": "98eb9678-83df-4a7c-8c27-d742839ab841",
   "metadata": {
    "tags": []
   },
   "outputs": [],
   "source": [
    "#Fuel Aggregation\n",
    "agg_BFt = {\n",
    "    'Fueloil':'Oil','Gasoil':'Oil', \n",
    "    'Straw':'Biomass','WoodPellets':'Biomass','WoodChips':'Biomass','WoodWaste':'Biomass',\n",
    "    'Biogas':'Other Bio','BioOil':'Other Bio',\n",
    "    'Coal':'Coal',\n",
    "    'NatGas':'Natural gas',\n",
    "    'Waste':'Waste'\n",
    "}"
   ]
  },
  {
   "cell_type": "markdown",
   "id": "273b48f2-09d0-42bf-8443-df35257c1aac",
   "metadata": {
    "tags": []
   },
   "source": [
    "- `id6` is a wind farm with a marginal costs of generation of 3 $€/$GJ. The installed/theoretical capacity if 25 but the average/practical generating capacity is only around 7.5.\n",
    "- `id4` is a relatively cheap waste incineration plant, which is associted with CO$_2$ emissions.\n",
    "- `id1` is next on the merit order curve and is predominately a coal plant. Even though it is not the most fuel inefficient generator it has by far the largest emission intensity.\n",
    "- `id2` is a predominately a natural-gas fired plant and has the second highest emission intensity.\n",
    "- `id3` is a biomass-fired plant associated with moderate CO$_2$ emissions since it also uses a small input of coal.\n",
    "- `id5` is the last generator on the merit order curve and it is relatively costly mainly due to high fuel costs. "
   ]
  },
  {
   "cell_type": "code",
   "execution_count": null,
   "id": "275448a8",
   "metadata": {},
   "outputs": [],
   "source": [
    "extract = ['marginalSystemCosts','Generation','charge','discharge','capturePrice','marketValueFactor','capacityFactor','marginalEconomicValue','hourlyEmissions','Emissions','consumerSurplus','producerSurplus','Welfare']"
   ]
  },
  {
   "cell_type": "code",
   "execution_count": null,
   "id": "81451c3f",
   "metadata": {},
   "outputs": [],
   "source": [
    "### This part of the code take a long time to run - upwards of 15 minutes ###\n",
    "\n",
    "# Settings for model solving\n",
    "E2P = 6  # The \"energy storage to power\"-ratio/storage duration\n",
    "maxcap = 10  \n",
    "loop = pd.Index(range(11), name='loop')  \n",
    "\n",
    "# Different efficiency levels\n",
    "effS_levels = [0.80, 0.85, 0.90, 0.95, 0.99]\n",
    "\n",
    "v0_ECap = pd.Series(0.001, index=getTechs(['Storage'], m.db))\n",
    "vT_ECap = pd.Series(maxcap, index=v0_ECap.index)\n",
    "v0_SCap = v0_ECap.mul(E2P)\n",
    "vT_SCap = vT_ECap.mul(E2P)\n",
    "\n",
    "grid_ECap = adjMultiIndex.addGrid(v0_ECap, vT_ECap, loop, 'GeneratingCapacity').astype(int)\n",
    "grid_SCap = adjMultiIndex.addGrid(v0_SCap, vT_SCap, loop, 'sCap').astype(int)\n",
    "\n",
    "results = []\n",
    "\n",
    "# Run with different efficiency levels\n",
    "for effS in effS_levels:\n",
    "    m.db['effS'] = effS\n",
    "    \n",
    "    solution = m.loopSolveExtract(loop, [grid_ECap, grid_SCap], extract)\n",
    "    \n",
    "    results.append({\n",
    "        'effS': effS,\n",
    "        'solution': solution,\n",
    "        'Emissions': solution['Emissions'].sum(),\n",
    "        'Welfare': solution['Welfare'].sum()\n",
    "    })\n",
    "\n",
    "results_df = pd.DataFrame(results)\n"
   ]
  },
  {
   "cell_type": "code",
   "execution_count": null,
   "id": "29d97c3d",
   "metadata": {},
   "outputs": [],
   "source": [
    "# Solve the model with the baseline efficiency level of 90%\n",
    "m.db['effS'] = 0.90\n",
    "\n",
    "solution1 = m.loopSolveExtract(loop, [grid_ECap, grid_SCap], extract)"
   ]
  },
  {
   "cell_type": "code",
   "execution_count": null,
   "id": "22588a58",
   "metadata": {},
   "outputs": [],
   "source": [
    "# Initialize the plot of welfare vs. storage capacity\n",
    "plt.figure(figsize=(10, 6))\n",
    "\n",
    "for result in results:\n",
    "    effS = result['effS']\n",
    "    welfare = result['solution']['Welfare']\n",
    "    \n",
    "    plt.plot(loop, welfare, label=f'effS = {effS:.2f}')\n",
    "\n",
    "plt.xlabel('Storage Energy Capacity (GJ)')\n",
    "plt.ylabel('Welfare (Mio. EUR(€))')\n",
    "plt.title('Impact of Storage Capacity and Efficiency (effS) on Welfare')\n",
    "plt.legend(title='Efficiency (effS)')\n",
    "plt.grid(True, linestyle='--', alpha=0.7)\n",
    "plt.tight_layout()\n",
    "\n",
    "plt.show()\n"
   ]
  },
  {
   "cell_type": "code",
   "execution_count": null,
   "id": "75380e30",
   "metadata": {},
   "outputs": [],
   "source": [
    "# Initialize the plot of emissions\n",
    "plt.figure(figsize=(10, 6))\n",
    "\n",
    "for result in results:\n",
    "    effS = result['effS']\n",
    "    emissions = result['solution']['Emissions']\n",
    "    \n",
    "    plt.plot(loop, emissions, label=f'effS = {effS:.2f}')\n",
    "\n",
    "plt.xlabel('Storage Energy Capacity (GJ)')\n",
    "plt.ylabel('Emissions (tons CO2)')\n",
    "plt.title('Impact of Storage Capacity and Efficiency (effS) on Emissions')\n",
    "plt.legend(title='Efficiency (effS) pct.')\n",
    "plt.grid(True, linestyle='--', alpha=0.7)\n",
    "plt.tight_layout()\n",
    "\n",
    "plt.show()\n",
    "\n"
   ]
  },
  {
   "cell_type": "code",
   "execution_count": null,
   "id": "bc332d9f",
   "metadata": {},
   "outputs": [],
   "source": [
    "# Initialize the plot of Welfare vs. Emissions\n",
    "plt.figure(figsize=(10, 6))\n",
    "\n",
    "for i, result in enumerate(results):\n",
    "    effS = result['effS']\n",
    "    emissions = result['solution']['Emissions']\n",
    "    welfare = result['solution']['Welfare']\n",
    "    capacity = grid_ECap.iloc[i] \n",
    "    \n",
    "    plt.scatter(emissions, welfare, s=capacity * 10, alpha=0.7, label=f'effS = {effS:.2f}')  # Scale marker size for visibility\n",
    "\n",
    "plt.xlabel('Emissions (tons CO2)')\n",
    "plt.ylabel('Welfare (€)')\n",
    "plt.title('Welfare vs. Emissions with effS Levels and Capacities')\n",
    "plt.legend(title='Efficiency (effS)')\n",
    "plt.grid(True, linestyle='--', alpha=0.7)\n",
    "plt.tight_layout()\n",
    "\n",
    "plt.show()\n",
    "\n"
   ]
  },
  {
   "cell_type": "code",
   "execution_count": null,
   "id": "c69bd3a4",
   "metadata": {},
   "outputs": [],
   "source": [
    "#scatter plot of emissions vs. welfare when effS = 0.90\n",
    "plt.scatter(solution1['Emissions'], solution1['Welfare'], c=grid_ECap, cmap='viridis')\n",
    "plt.xlabel('Emissions (tons CO2)')\n",
    "plt.ylabel('Welfare (€)')\n",
    "plt.colorbar(label='Storage Energy Capacity (MWh)')\n",
    "plt.title('Emissions vs. Welfare Across Storage Scenarios')\n",
    "plt.show()\n"
   ]
  },
  {
   "cell_type": "code",
   "execution_count": null,
   "id": "4e7b3700",
   "metadata": {},
   "outputs": [],
   "source": [
    "trade_off_results = []\n",
    "\n",
    "# Calculate trade-off for each result\n",
    "for result in results:\n",
    "    effS = result['effS']\n",
    "    emissions = result['solution']['Emissions']*1000  # Convert to kg\n",
    "    welfare = result['solution']['Welfare']\n",
    "    \n",
    "    delta_emissions = emissions.diff()  \n",
    "    delta_welfare = welfare.diff()      \n",
    "    \n",
    "    trade_off = delta_emissions / delta_welfare\n",
    "    \n",
    "    trade_off_results.append({\n",
    "        'effS': effS,\n",
    "        'trade_off': trade_off.mean()  \n",
    "    })\n",
    "\n",
    "trade_off_df = pd.DataFrame(trade_off_results)\n"
   ]
  },
  {
   "cell_type": "code",
   "execution_count": null,
   "id": "d91633eb",
   "metadata": {},
   "outputs": [],
   "source": [
    "# Initialize the plot of the trade-off analysis\n",
    "plt.figure(figsize=(10, 6))\n",
    "\n",
    "plt.bar(trade_off_df['effS'], trade_off_df['trade_off'], width=0.03, color='skyblue', alpha=0.8)\n",
    "\n",
    "plt.xticks(ticks=trade_off_df['effS'], labels=[f\"{eff:.2f}\" for eff in trade_off_df['effS']])\n",
    "plt.xlim(0.78, 1.01) \n",
    "\n",
    "plt.xlabel('Efficiency (%)')\n",
    "plt.ylabel('Change in Emissions per Unit of Welfare (kg CO2 / €)')\n",
    "plt.title('Trade-Off Analysis: Emissions vs. Welfare Across effS Levels')\n",
    "plt.grid(True, linestyle='--', alpha=0.7)\n",
    "plt.tight_layout()\n",
    "\n",
    "plt.show()\n",
    "\n"
   ]
  },
  {
   "cell_type": "code",
   "execution_count": null,
   "id": "5d892338",
   "metadata": {},
   "outputs": [],
   "source": [
    "# Initialize the plot of hourly marginal system costs\n",
    "loop_id = loop[[2, 4, 6, 8, 10]]\n",
    "\n",
    "df_p = pd.concat([\n",
    "    base_db['marginalSystemCosts'].rename('base').astype(float),\n",
    "    adj.rc_pd(solution1['marginalSystemCosts'], loop_id).unstack('loop').rename_axis(None, axis=1).astype(float)\n",
    "], axis=1)\n",
    "\n",
    "\n",
    "p_names = df_p.columns.copy()\n",
    "df = df_p.reset_index().merge(m.db['h2HourOfTheDay'].to_frame(index=False))\n",
    "\n",
    "\n",
    "fig, ax = plt.subplots()\n",
    "df.groupby('HourOfTheDay')[p_names].mean().plot(xlabel='Average hour of the day', ylabel=r'Average marginal system costs ($€/$GJ)', ax=ax, legend=False)\n",
    "fig.legend(['0 (baseline)'] + grid_ECap[loop_id].tolist(), loc='lower center', ncol=len(df_fuelineff.columns), frameon=True, bbox_to_anchor=(0.6, 0.2), title=r'Power capacity of storage technology:')\n",
    "fig.tight_layout()\n",
    "\n",
    "plt.show()\n"
   ]
  }
 ],
 "metadata": {
  "kernelspec": {
   "display_name": "base",
   "language": "python",
   "name": "python3"
  },
  "language_info": {
   "codemirror_mode": {
    "name": "ipython",
    "version": 3
   },
   "file_extension": ".py",
   "mimetype": "text/x-python",
   "name": "python",
   "nbconvert_exporter": "python",
   "pygments_lexer": "ipython3",
   "version": "3.11.5"
  }
 },
 "nbformat": 4,
 "nbformat_minor": 5
}
